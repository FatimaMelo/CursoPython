{
  "nbformat": 4,
  "nbformat_minor": 0,
  "metadata": {
    "colab": {
      "provenance": [],
      "authorship_tag": "ABX9TyPwTz5vz+uaMXWYPo336Nu1",
      "include_colab_link": true
    },
    "kernelspec": {
      "name": "python3",
      "display_name": "Python 3"
    },
    "language_info": {
      "name": "python"
    }
  },
  "cells": [
    {
      "cell_type": "markdown",
      "metadata": {
        "id": "view-in-github",
        "colab_type": "text"
      },
      "source": [
        "<a href=\"https://colab.research.google.com/github/FatimaMelo/CursoPython/blob/main/Aula1.ipynb\" target=\"_parent\"><img src=\"https://colab.research.google.com/assets/colab-badge.svg\" alt=\"Open In Colab\"/></a>"
      ]
    },
    {
      "cell_type": "markdown",
      "source": [
        "#Seção 1\n",
        "*Vamos fazer um texto em itálico* \n",
        "\n",
        "**Vamos fazer um texto em negrito**\n",
        "\n",
        "\n",
        "\n"
      ],
      "metadata": {
        "id": "R6mM3MnwvtR5"
      }
    },
    {
      "cell_type": "code",
      "source": [
        "a = 5\n",
        "b = 10\n",
        "soma = a + b\n",
        "print (\" a soma é :\",soma)"
      ],
      "metadata": {
        "colab": {
          "base_uri": "https://localhost:8080/"
        },
        "id": "0I4GFxbu3lg0",
        "outputId": "08ab4d66-a60f-4466-98ea-616490730b7f"
      },
      "execution_count": 2,
      "outputs": [
        {
          "output_type": "stream",
          "name": "stdout",
          "text": [
            " a soma é : 15\n"
          ]
        }
      ]
    },
    {
      "cell_type": "markdown",
      "source": [
        "#Seção 2\n",
        "**Agora vamos fazer um programa para os valores que serão somados através do teclado**\n"
      ],
      "metadata": {
        "id": "K7A0GzGa4nqa"
      }
    },
    {
      "cell_type": "code",
      "source": [
        "a = int(input(\"Digite o primeiro número: \"))\n",
        "b = int(input(\"Digite o  segundo número: \"))\n",
        "soma = a + b\n",
        "print (\" a soma é :\",soma)"
      ],
      "metadata": {
        "colab": {
          "base_uri": "https://localhost:8080/"
        },
        "id": "MJS2QqHR5Ju3",
        "outputId": "efa7aa2a-a377-4620-931a-c33714fca381"
      },
      "execution_count": 4,
      "outputs": [
        {
          "output_type": "stream",
          "name": "stdout",
          "text": [
            "Digite o primeiro número: 40\n",
            "Digite o  segundo número: 100\n",
            " a soma é : 140\n"
          ]
        }
      ]
    },
    {
      "cell_type": "markdown",
      "source": [
        "#Seção 3\n",
        "\n",
        "*Agora Vamos inserir uma imagem*\n",
        "\n",
        "![fatima.jpg](https://s2.glbimg.com/1o2J-rf2G9qtlQlm82gaq-mFBec=/0x129:1024x952/924x0/smart/filters:strip_icc()/i.s3.glbimg.com/v1/AUTH_08fbf48bc0524877943fe86e43087e7a/internal_photos/bs/2023/7/i/ME2AxRRoygUyFPCDe0jQ/3.png)"
      ],
      "metadata": {
        "id": "HpKshOk77T1x"
      }
    },
    {
      "cell_type": "markdown",
      "source": [
        "#Seção 5 \n",
        "\n",
        "** Tabelas **\n",
        "\n",
        "> Como criar uma tabela \n",
        ">>Vamos criar uma tabela com notas escolares\n",
        "\n",
        "|Aluno|Nota 1|Nota 2|\n",
        "|---|---|---|\n",
        "|João da Silva|10,0|5,0|\n",
        "|Maria Joaquina|5,0|8,0|\n",
        "\n",
        "##Seção 5.1\n",
        "\n",
        "**Vamos Criar uma Lista Numerada**\n",
        "\n",
        "1. Módulo1\n",
        "1. Módulo2\n",
        "1. Módulo3\n",
        "\n",
        "Linha para separar\n",
        "---\n",
        "\n",
        "\n",
        "\n",
        "* Módulo1\n",
        "* Módulo 2\n",
        "* Módulo 3\n",
        "\n",
        "\n"
      ],
      "metadata": {
        "id": "hkL_nvNp8KoR"
      }
    },
    {
      "cell_type": "code",
      "source": [
        "import pandas as pd\n",
        "import numpy as np\n",
        "\n",
        "d = {'Coluna1':[2,2],'Coluna2':[3,3]}\n",
        "data = pd.DataFrame()\n",
        "print (data)"
      ],
      "metadata": {
        "colab": {
          "base_uri": "https://localhost:8080/"
        },
        "id": "en5DF8gLGYt4",
        "outputId": "5b966b35-2141-4094-ac07-1eca4877394d"
      },
      "execution_count": 8,
      "outputs": [
        {
          "output_type": "stream",
          "name": "stdout",
          "text": [
            "Empty DataFrame\n",
            "Columns: []\n",
            "Index: []\n"
          ]
        }
      ]
    },
    {
      "cell_type": "markdown",
      "source": [
        "# Nova seção"
      ],
      "metadata": {
        "id": "SldiVlfw_nVJ"
      }
    }
  ]
}